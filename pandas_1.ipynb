{
  "nbformat": 4,
  "nbformat_minor": 0,
  "metadata": {
    "colab": {
      "name": "pandas_1.ipynb",
      "provenance": [],
      "authorship_tag": "ABX9TyOHs9NVjaP/fQxYlVOfw8nT",
      "include_colab_link": true
    },
    "kernelspec": {
      "name": "python3",
      "display_name": "Python 3"
    }
  },
  "cells": [
    {
      "cell_type": "markdown",
      "metadata": {
        "id": "view-in-github",
        "colab_type": "text"
      },
      "source": [
        "<a href=\"https://colab.research.google.com/github/daje0601/Python-2020/blob/master/pandas_1.ipynb\" target=\"_parent\"><img src=\"https://colab.research.google.com/assets/colab-badge.svg\" alt=\"Open In Colab\"/></a>"
      ]
    },
    {
      "cell_type": "markdown",
      "metadata": {
        "id": "GkbBdjh2CFXo"
      },
      "source": [
        "\n",
        "# 1. DataFrame 생성(직접 만들기 / 외부에서 불러오기)\n",
        "#### DataFrame이란? 표 형식으로 생성된 데이터를 의미함 \n",
        "\n",
        "#### 간략한 설명을 위한 우리는 DataFrame을 df으로 약칭함\n",
        "#### 일단 단순하게 말해보자면 df는 엑셀의 표라고 생각하시면 편합니다. \n",
        "\n",
        "#### df를 생성하는 방법은 크게 2가지로 나뉜다\n",
        "\n",
        "\n",
        "## 1) 데이터 직접생성 "
      ]
    },
    {
      "cell_type": "code",
      "metadata": {
        "id": "u9gjqIzSCEeH"
      },
      "source": [
        ""
      ],
      "execution_count": null,
      "outputs": []
    }
  ]
}