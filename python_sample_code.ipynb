{
  "nbformat": 4,
  "nbformat_minor": 0,
  "metadata": {
    "colab": {
      "name": "python sample code.ipynb",
      "provenance": [],
      "authorship_tag": "ABX9TyOtZMcXbPUFZUMxusB+aUmr",
      "include_colab_link": true
    },
    "kernelspec": {
      "name": "python3",
      "display_name": "Python 3"
    },
    "language_info": {
      "name": "python"
    }
  },
  "cells": [
    {
      "cell_type": "markdown",
      "metadata": {
        "id": "view-in-github",
        "colab_type": "text"
      },
      "source": [
        "<a href=\"https://colab.research.google.com/github/daje0601/Python-2020/blob/master/python_sample_code.ipynb\" target=\"_parent\"><img src=\"https://colab.research.google.com/assets/colab-badge.svg\" alt=\"Open In Colab\"/></a>"
      ]
    },
    {
      "cell_type": "code",
      "metadata": {
        "colab": {
          "base_uri": "https://localhost:8080/"
        },
        "id": "AV9FQEa69b8r",
        "outputId": "7530171e-2203-4395-f729-ee641629d00f"
      },
      "source": [
        "# 정규표현식 라이브러리\n",
        "import re\n",
        "\n",
        "wordlist = [\"color\", \"colour\", \"work\", \"working\",\n",
        "            \"fox\", \"worker\", \"working\"]\n",
        "\n",
        "for word in wordlist:\n",
        "        if re.search('col.r', word) : \n",
        "                print (word)"
      ],
      "execution_count": 1,
      "outputs": [
        {
          "output_type": "stream",
          "text": [
            "color\n"
          ],
          "name": "stdout"
        }
      ]
    },
    {
      "cell_type": "code",
      "metadata": {
        "colab": {
          "base_uri": "https://localhost:8080/"
        },
        "id": "sg6kqs1N9ct4",
        "outputId": "a982871f-6242-4ba4-e865-f4a08efb4486"
      },
      "source": [
        "regular_expressions = '<html><head><title>Title</title>'\n",
        "print(len(regular_expressions))\n",
        "\n",
        "print(re.match('<.*>', regular_expressions).span())\n",
        "\n",
        "print(re.match('<.*>', regular_expressions).group())"
      ],
      "execution_count": 2,
      "outputs": [
        {
          "output_type": "stream",
          "text": [
            "32\n",
            "(0, 32)\n",
            "<html><head><title>Title</title>\n"
          ],
          "name": "stdout"
        }
      ]
    },
    {
      "cell_type": "code",
      "metadata": {
        "id": "K7F6acY49p9s"
      },
      "source": [
        "# case 1\n",
        "pat = re.compile(r\"\"\"\n",
        " \\s*                 # Skip leading whitespace\n",
        " (?P<header>[^:]+)   # Header name\n",
        " \\s* :               # Whitespace, and a colon\n",
        " (?P<value>.*?)      # The header's value -- *? used to\n",
        "                     # lose the following trailing whitespace\n",
        " \\s*$                # Trailing whitespace to end-of-line\n",
        "\"\"\", re.VERBOSE)"
      ],
      "execution_count": 3,
      "outputs": []
    },
    {
      "cell_type": "code",
      "metadata": {
        "id": "8KouKfgV9-c1"
      },
      "source": [
        "# case 2\n",
        "pat = re.compile(r\"\\s*(?P<header>[^:]+)\\s*:(?P<value>.*?)\\s*$\")"
      ],
      "execution_count": 4,
      "outputs": []
    },
    {
      "cell_type": "code",
      "metadata": {
        "colab": {
          "base_uri": "https://localhost:8080/"
        },
        "id": "z1tHU9-9-AWF",
        "outputId": "ff344f23-ddc2-4278-b84c-3525a6d5cb20"
      },
      "source": [
        "#\"002\"\n",
        "print(\"2\".rjust(3,\"0\"))\n",
        " \n",
        "#\"50000\"\n",
        "print(\"50000\".rjust(5,\"0\"))\n",
        " \n",
        "#\"00123\"\n",
        "print(\"123\".rjust(5,\"0\"))\n",
        " \n",
        "#\"aa123\"\n",
        "print(\"123\".rjust(5,\"a\"))"
      ],
      "execution_count": 5,
      "outputs": [
        {
          "output_type": "stream",
          "text": [
            "002\n",
            "50000\n",
            "00123\n",
            "aa123\n"
          ],
          "name": "stdout"
        }
      ]
    },
    {
      "cell_type": "code",
      "metadata": {
        "colab": {
          "base_uri": "https://localhost:8080/"
        },
        "id": "sUPlevKo-CcE",
        "outputId": "2eeb3f8f-9628-47ab-b8c8-1aaad7e48c3a"
      },
      "source": [
        "#\"002\"\n",
        "print(\"2\".zfill(3))\n",
        " \n",
        "#\"50000\"\n",
        "print(\"50000\".zfill(5))\n",
        " \n",
        "#\"00123\"\n",
        "print(\"123\".zfill(5))"
      ],
      "execution_count": 6,
      "outputs": [
        {
          "output_type": "stream",
          "text": [
            "002\n",
            "50000\n",
            "00123\n"
          ],
          "name": "stdout"
        }
      ]
    },
    {
      "cell_type": "code",
      "metadata": {
        "colab": {
          "base_uri": "https://localhost:8080/"
        },
        "id": "qKMlDDNM-FjE",
        "outputId": "e4eb342c-a78e-485f-f686-c4e662d2f811"
      },
      "source": [
        "string_ = \"Hello, I am Jack and I am a data scientist\"\n",
        "print(string_)\n",
        "print(string_[1])"
      ],
      "execution_count": 7,
      "outputs": [
        {
          "output_type": "stream",
          "text": [
            "Hello, I am Jack and I am a data scientist\n",
            "e\n"
          ],
          "name": "stdout"
        }
      ]
    },
    {
      "cell_type": "code",
      "metadata": {
        "colab": {
          "base_uri": "https://localhost:8080/"
        },
        "id": "SQ8zY5GQ-ICI",
        "outputId": "190d4782-06c4-4238-8df8-88de67dc27ac"
      },
      "source": [
        "string_list = string_.split(\" \")\n",
        "string_list"
      ],
      "execution_count": 8,
      "outputs": [
        {
          "output_type": "execute_result",
          "data": {
            "text/plain": [
              "['Hello,', 'I', 'am', 'Jack', 'and', 'I', 'am', 'a', 'data', 'scientist']"
            ]
          },
          "metadata": {
            "tags": []
          },
          "execution_count": 8
        }
      ]
    },
    {
      "cell_type": "code",
      "metadata": {
        "colab": {
          "base_uri": "https://localhost:8080/"
        },
        "id": "lNCdE5at-NvX",
        "outputId": "1d750702-bd13-4080-a23e-e7eb3feaeff5"
      },
      "source": [
        "string_.startswith('Hello')"
      ],
      "execution_count": 9,
      "outputs": [
        {
          "output_type": "execute_result",
          "data": {
            "text/plain": [
              "True"
            ]
          },
          "metadata": {
            "tags": []
          },
          "execution_count": 9
        }
      ]
    },
    {
      "cell_type": "code",
      "metadata": {
        "colab": {
          "base_uri": "https://localhost:8080/"
        },
        "id": "jZxU1Hn4-P3H",
        "outputId": "2bcad10b-f54b-487a-dca8-a5b1387481b2"
      },
      "source": [
        "string_.endswith('scientist')"
      ],
      "execution_count": 10,
      "outputs": [
        {
          "output_type": "execute_result",
          "data": {
            "text/plain": [
              "True"
            ]
          },
          "metadata": {
            "tags": []
          },
          "execution_count": 10
        }
      ]
    },
    {
      "cell_type": "code",
      "metadata": {
        "colab": {
          "base_uri": "https://localhost:8080/"
        },
        "id": "RhweqbcV-SBm",
        "outputId": "d578b804-8449-4da1-e62d-e35ffc9c938e"
      },
      "source": [
        "string_.endswith('tist')"
      ],
      "execution_count": 11,
      "outputs": [
        {
          "output_type": "execute_result",
          "data": {
            "text/plain": [
              "True"
            ]
          },
          "metadata": {
            "tags": []
          },
          "execution_count": 11
        }
      ]
    },
    {
      "cell_type": "code",
      "metadata": {
        "colab": {
          "base_uri": "https://localhost:8080/"
        },
        "id": "m01ME6sX-WPI",
        "outputId": "4f6475ec-0235-4194-8b11-e141513aafe3"
      },
      "source": [
        "print(string_.replace(\"Jack\", \"John\"))\n",
        "print(string_)"
      ],
      "execution_count": 12,
      "outputs": [
        {
          "output_type": "stream",
          "text": [
            "Hello, I am John and I am a data scientist\n",
            "Hello, I am Jack and I am a data scientist\n"
          ],
          "name": "stdout"
        }
      ]
    },
    {
      "cell_type": "code",
      "metadata": {
        "colab": {
          "base_uri": "https://localhost:8080/"
        },
        "id": "Es0zGQ9O-YEP",
        "outputId": "79fb24e8-984f-49b3-a25c-8abaad29fe94"
      },
      "source": [
        "fruits = {\"apple\", \"banana\", \"cherry\"}\n",
        "fruits_copy = fruits.copy()\n",
        "fruits_copy"
      ],
      "execution_count": 13,
      "outputs": [
        {
          "output_type": "execute_result",
          "data": {
            "text/plain": [
              "{'apple', 'banana', 'cherry'}"
            ]
          },
          "metadata": {
            "tags": []
          },
          "execution_count": 13
        }
      ]
    },
    {
      "cell_type": "code",
      "metadata": {
        "colab": {
          "base_uri": "https://localhost:8080/"
        },
        "id": "hhbGoeIn-bO9",
        "outputId": "307b43d2-1c34-4f25-9b80-098ad6205d36"
      },
      "source": [
        "a = {'a': 5, 'b': 4, 'c': 8}\n",
        "b = a\n",
        "del b['a']\n",
        "print(b)\n",
        "print(a)"
      ],
      "execution_count": 14,
      "outputs": [
        {
          "output_type": "stream",
          "text": [
            "{'b': 4, 'c': 8}\n",
            "{'b': 4, 'c': 8}\n"
          ],
          "name": "stdout"
        }
      ]
    },
    {
      "cell_type": "code",
      "metadata": {
        "colab": {
          "base_uri": "https://localhost:8080/"
        },
        "id": "Ce3RJCYU-dl2",
        "outputId": "4818d8aa-4553-4e8b-a4be-b4d9096e8b1c"
      },
      "source": [
        "a = {'a': 5, 'b': 4, 'c': 8}\n",
        "b = a.copy()\n",
        "del b['a']\n",
        "print(b)\n",
        "print(a)\n"
      ],
      "execution_count": 16,
      "outputs": [
        {
          "output_type": "stream",
          "text": [
            "{'b': 4, 'c': 8}\n",
            "{'a': 5, 'b': 4, 'c': 8}\n"
          ],
          "name": "stdout"
        }
      ]
    },
    {
      "cell_type": "code",
      "metadata": {
        "colab": {
          "base_uri": "https://localhost:8080/"
        },
        "id": "8TQNiE8k-f0d",
        "outputId": "b81c347e-6927-478f-aa1b-c29e187e936a"
      },
      "source": [
        "import copy\n",
        "list_var = [[1,2],[3,4]]\n",
        "list_var_deepcopy = copy.deepcopy(list_var)\n",
        "list_var_copy = list_var.copy()\n",
        "\n",
        "list_var[1].append(5)\n",
        "\n",
        "print(list_var)  # 원래 변수\n",
        "\n",
        "print(list_var_deepcopy)  # deepcopy : append와 같은 메소드를 써도 값이 변경되지 않음\n",
        "\n",
        "print(list_var_copy)  # copy : 원본이 변경되었으므로 함께 변경됨"
      ],
      "execution_count": 17,
      "outputs": [
        {
          "output_type": "stream",
          "text": [
            "[[1, 2], [3, 4, 5]]\n",
            "[[1, 2], [3, 4]]\n",
            "[[1, 2], [3, 4, 5]]\n"
          ],
          "name": "stdout"
        }
      ]
    },
    {
      "cell_type": "code",
      "metadata": {
        "colab": {
          "base_uri": "https://localhost:8080/"
        },
        "id": "AR4q7Wlg-vOu",
        "outputId": "af4a61fb-6bac-4908-c13d-e8233e3b2474"
      },
      "source": [
        "# case 1\n",
        "data = [90, 45, 32, 44]\n",
        "for i in range(len(data)):\n",
        "   print(data[i]) # 90, 45, 32, 44"
      ],
      "execution_count": 18,
      "outputs": [
        {
          "output_type": "stream",
          "text": [
            "90\n",
            "45\n",
            "32\n",
            "44\n"
          ],
          "name": "stdout"
        }
      ]
    },
    {
      "cell_type": "code",
      "metadata": {
        "colab": {
          "base_uri": "https://localhost:8080/"
        },
        "id": "Vji3Fpeg-_5o",
        "outputId": "1b53c320-756e-487a-ccd4-b06ab2215179"
      },
      "source": [
        "# case 2\n",
        "mock_data = {\n",
        "  \"id\": 1,\n",
        "  \"first_name\": \"states\",\n",
        "  \"last_name\": \"code\",\n",
        "  \"email\": \"code@states.com\",\n",
        "  \"gender\": \"Female\",\n",
        "  \"ip_address\": \"123.123.123.23\"\n",
        "}\n",
        "\n",
        "for x in mock_data:\n",
        "    print(x) "
      ],
      "execution_count": 19,
      "outputs": [
        {
          "output_type": "stream",
          "text": [
            "id\n",
            "first_name\n",
            "last_name\n",
            "email\n",
            "gender\n",
            "ip_address\n"
          ],
          "name": "stdout"
        }
      ]
    },
    {
      "cell_type": "code",
      "metadata": {
        "colab": {
          "base_uri": "https://localhost:8080/"
        },
        "id": "lj0mjjFM_CMf",
        "outputId": "246d3273-30ab-4e77-e32b-bd5f79dd24ee"
      },
      "source": [
        "# case 3\n",
        "mock_data = {\n",
        "  \"id\": 1,\n",
        "  \"first_name\": \"states\",\n",
        "  \"last_name\": \"code\",\n",
        "  \"email\": \"code@states.com\",\n",
        "  \"gender\": \"Female\",\n",
        "  \"ip_address\": \"123.123.123.23\"\n",
        "}\n",
        "\n",
        "for x in mock_data.keys():\n",
        "    print(x)"
      ],
      "execution_count": 20,
      "outputs": [
        {
          "output_type": "stream",
          "text": [
            "id\n",
            "first_name\n",
            "last_name\n",
            "email\n",
            "gender\n",
            "ip_address\n"
          ],
          "name": "stdout"
        }
      ]
    },
    {
      "cell_type": "code",
      "metadata": {
        "colab": {
          "base_uri": "https://localhost:8080/"
        },
        "id": "hhB-46c6_F3R",
        "outputId": "4b9dd16f-b46f-4cbe-956f-10e52c57fdaf"
      },
      "source": [
        "# case 4\n",
        "mock_data = {\n",
        "  \"id\": 1,\n",
        "  \"first_name\": \"states\",\n",
        "  \"last_name\": \"code\",\n",
        "  \"email\": \"code@states.com\",\n",
        "  \"gender\": \"Female\",\n",
        "  \"ip_address\": \"123.123.123.23\"\n",
        "}\n",
        "\n",
        "for x in mock_data.values():\n",
        "    print(x)"
      ],
      "execution_count": 22,
      "outputs": [
        {
          "output_type": "stream",
          "text": [
            "1\n",
            "states\n",
            "code\n",
            "code@states.com\n",
            "Female\n",
            "123.123.123.23\n"
          ],
          "name": "stdout"
        }
      ]
    },
    {
      "cell_type": "code",
      "metadata": {
        "colab": {
          "base_uri": "https://localhost:8080/"
        },
        "id": "RNGqDaw2_KFH",
        "outputId": "77bb60bf-2866-4419-c289-8be42e18109d"
      },
      "source": [
        "# case 5 \n",
        "mock_data = {\n",
        "  \"id\": 1,\n",
        "  \"first_name\": \"states\",\n",
        "  \"last_name\": \"code\",\n",
        "  \"email\": \"code@states.com\",\n",
        "  \"gender\": \"Female\",\n",
        "  \"ip_address\": \"123.123.123.23\"\n",
        "}\n",
        "\n",
        "for x in mock_data.items():\n",
        "    print(x)\n",
        "\n",
        "for k,v in mock_data.items():\n",
        "    print(k,v)"
      ],
      "execution_count": 23,
      "outputs": [
        {
          "output_type": "stream",
          "text": [
            "('id', 1)\n",
            "('first_name', 'states')\n",
            "('last_name', 'code')\n",
            "('email', 'code@states.com')\n",
            "('gender', 'Female')\n",
            "('ip_address', '123.123.123.23')\n",
            "id 1\n",
            "first_name states\n",
            "last_name code\n",
            "email code@states.com\n",
            "gender Female\n",
            "ip_address 123.123.123.23\n"
          ],
          "name": "stdout"
        }
      ]
    },
    {
      "cell_type": "code",
      "metadata": {
        "colab": {
          "base_uri": "https://localhost:8080/"
        },
        "id": "-Mhuhw4r_QVb",
        "outputId": "ed49d6e3-4d5f-4b7c-9e41-a07a5e463716"
      },
      "source": [
        "# 일반적인 반복문 활용\n",
        "a = [1,2,3,4,5]\n",
        "b = [10,20,30,40,50]\n",
        "for i in range(len(a)):\n",
        "   print(a[i],b[i])"
      ],
      "execution_count": 24,
      "outputs": [
        {
          "output_type": "stream",
          "text": [
            "1 10\n",
            "2 20\n",
            "3 30\n",
            "4 40\n",
            "5 50\n"
          ],
          "name": "stdout"
        }
      ]
    },
    {
      "cell_type": "code",
      "metadata": {
        "colab": {
          "base_uri": "https://localhost:8080/"
        },
        "id": "ktTCKnWo_St6",
        "outputId": "bf0dd9dc-469c-4f92-cd8f-a4a0cfba6b4b"
      },
      "source": [
        "# zip 함수 활용\n",
        "a = [1,2,3,4,5]\n",
        "b = [10,20,30,40,50]\n",
        "c = zip(a,b)\n",
        "print(list(c))"
      ],
      "execution_count": 25,
      "outputs": [
        {
          "output_type": "stream",
          "text": [
            "[(1, 10), (2, 20), (3, 30), (4, 40), (5, 50)]\n"
          ],
          "name": "stdout"
        }
      ]
    },
    {
      "cell_type": "code",
      "metadata": {
        "colab": {
          "base_uri": "https://localhost:8080/"
        },
        "id": "9yCuHWwF_XCH",
        "outputId": "05c4ba7e-eba2-44e2-afd5-c3fdcbca8ce0"
      },
      "source": [
        "# 반복문과 zip 활용\n",
        "a = [1,2,3,4,5]\n",
        "b = [10,20,30,40,50]\n",
        "c = [100,200,300,400,500]\n",
        "for x,y,z in zip(a,b,c):\n",
        "   print(x,y,z)"
      ],
      "execution_count": 26,
      "outputs": [
        {
          "output_type": "stream",
          "text": [
            "1 10 100\n",
            "2 20 200\n",
            "3 30 300\n",
            "4 40 400\n",
            "5 50 500\n"
          ],
          "name": "stdout"
        }
      ]
    },
    {
      "cell_type": "code",
      "metadata": {
        "colab": {
          "base_uri": "https://localhost:8080/"
        },
        "id": "ey4OPwee_ZoZ",
        "outputId": "a8609ae7-36b1-411e-d280-083726838ff6"
      },
      "source": [
        "# break\n",
        "\n",
        "IntCollection=[0,1,2,3,4,5,6,7]\n",
        "for x in IntCollection:\n",
        "    if(x==3):\n",
        "        break\n",
        "    else:\n",
        "        print(x)"
      ],
      "execution_count": 27,
      "outputs": [
        {
          "output_type": "stream",
          "text": [
            "0\n",
            "1\n",
            "2\n"
          ],
          "name": "stdout"
        }
      ]
    },
    {
      "cell_type": "code",
      "metadata": {
        "colab": {
          "base_uri": "https://localhost:8080/"
        },
        "id": "PXmZoJMh_bNw",
        "outputId": "a908b55b-1c90-4947-cbd1-8cc69b4b486f"
      },
      "source": [
        "# continue\n",
        "\n",
        "IntCollection=[0,1,2,3,4,5,6,7]\n",
        "for x in IntCollection:\n",
        "    if(x==3):\n",
        "        continue\n",
        "    else:\n",
        "        print(x)"
      ],
      "execution_count": 28,
      "outputs": [
        {
          "output_type": "stream",
          "text": [
            "0\n",
            "1\n",
            "2\n",
            "4\n",
            "5\n",
            "6\n",
            "7\n"
          ],
          "name": "stdout"
        }
      ]
    },
    {
      "cell_type": "code",
      "metadata": {
        "colab": {
          "base_uri": "https://localhost:8080/"
        },
        "id": "tmkYeLxg_dCW",
        "outputId": "791ff6c9-089b-4689-f436-eba8a64d058c"
      },
      "source": [
        "# 반복문의 다양한 활용\n",
        "list_ = [1,2,3,4,5]\n",
        "\n",
        "def foo(list_):\n",
        "  print(list_)\n",
        "\n",
        "print('foo(list_[i])')\n",
        "for i in range(len(list_)):\n",
        "    foo(list_[i])\n",
        "\n",
        "print('foo(element)')\n",
        "for element in list_:\n",
        "    foo(element)"
      ],
      "execution_count": 29,
      "outputs": [
        {
          "output_type": "stream",
          "text": [
            "foo(list_[i])\n",
            "1\n",
            "2\n",
            "3\n",
            "4\n",
            "5\n",
            "foo(element)\n",
            "1\n",
            "2\n",
            "3\n",
            "4\n",
            "5\n"
          ],
          "name": "stdout"
        }
      ]
    },
    {
      "cell_type": "code",
      "metadata": {
        "colab": {
          "base_uri": "https://localhost:8080/",
          "height": 130
        },
        "id": "w3Z7Ma9b_fUO",
        "outputId": "d1d0a028-0a0d-411e-9da7-be0b92826fc5"
      },
      "source": [
        "# 케이스 1 - IndentationError\n",
        "\n",
        "def print_list(list):\n",
        "for item in list: # 에러 확인 및 해결필요\n",
        "print(item)\n",
        "\n",
        "# 인덴트를 넣어주면됨"
      ],
      "execution_count": 33,
      "outputs": [
        {
          "output_type": "error",
          "ename": "IndentationError",
          "evalue": "ignored",
          "traceback": [
            "\u001b[0;36m  File \u001b[0;32m\"<ipython-input-33-7b6a2331b740>\"\u001b[0;36m, line \u001b[0;32m8\u001b[0m\n\u001b[0;31m    for item in list: # 에러 확인 및 해결필요\u001b[0m\n\u001b[0m      ^\u001b[0m\n\u001b[0;31mIndentationError\u001b[0m\u001b[0;31m:\u001b[0m expected an indented block\n"
          ]
        }
      ]
    },
    {
      "cell_type": "code",
      "metadata": {
        "colab": {
          "base_uri": "https://localhost:8080/",
          "height": 130
        },
        "id": "DMgvouZO_hbg",
        "outputId": "f21eb1b3-18d2-40bb-8082-9667e1f45ab9"
      },
      "source": [
        "# 케이스 2 - SyntaxError\n",
        "\n",
        "123ddf"
      ],
      "execution_count": 38,
      "outputs": [
        {
          "output_type": "error",
          "ename": "SyntaxError",
          "evalue": "ignored",
          "traceback": [
            "\u001b[0;36m  File \u001b[0;32m\"<ipython-input-38-4e3b401ad3b5>\"\u001b[0;36m, line \u001b[0;32m3\u001b[0m\n\u001b[0;31m    123ddf\u001b[0m\n\u001b[0m         ^\u001b[0m\n\u001b[0;31mSyntaxError\u001b[0m\u001b[0;31m:\u001b[0m invalid syntax\n"
          ]
        }
      ]
    },
    {
      "cell_type": "code",
      "metadata": {
        "colab": {
          "base_uri": "https://localhost:8080/",
          "height": 232
        },
        "id": "iw28aGG7AY8C",
        "outputId": "9c85a8c7-fc9f-478c-8d6c-e583c16df203"
      },
      "source": [
        "# 케이스 3 - KeyboardInterrupt\n",
        "\n",
        "while True:\n",
        "  pass"
      ],
      "execution_count": 39,
      "outputs": [
        {
          "output_type": "error",
          "ename": "KeyboardInterrupt",
          "evalue": "ignored",
          "traceback": [
            "\u001b[0;31m---------------------------------------------------------------------------\u001b[0m",
            "\u001b[0;31mKeyboardInterrupt\u001b[0m                         Traceback (most recent call last)",
            "\u001b[0;32m<ipython-input-39-8b9c5ee2054e>\u001b[0m in \u001b[0;36m<module>\u001b[0;34m()\u001b[0m\n\u001b[1;32m      2\u001b[0m \u001b[0;34m\u001b[0m\u001b[0m\n\u001b[1;32m      3\u001b[0m \u001b[0;32mwhile\u001b[0m \u001b[0;32mTrue\u001b[0m\u001b[0;34m:\u001b[0m\u001b[0;34m\u001b[0m\u001b[0;34m\u001b[0m\u001b[0m\n\u001b[0;32m----> 4\u001b[0;31m   \u001b[0;32mpass\u001b[0m\u001b[0;34m\u001b[0m\u001b[0;34m\u001b[0m\u001b[0m\n\u001b[0m",
            "\u001b[0;31mKeyboardInterrupt\u001b[0m: "
          ]
        }
      ]
    },
    {
      "cell_type": "code",
      "metadata": {
        "colab": {
          "base_uri": "https://localhost:8080/",
          "height": 283
        },
        "id": "CXforoGyAiRQ",
        "outputId": "d9e6181f-5e3e-496e-95d6-66935bc316e8"
      },
      "source": [
        "# 케이스 4 - TypeError\n",
        "\n",
        "print(1) / 232\n",
        "\n",
        "a,b = 0\n",
        "print(a,b)"
      ],
      "execution_count": 40,
      "outputs": [
        {
          "output_type": "stream",
          "text": [
            "1\n"
          ],
          "name": "stdout"
        },
        {
          "output_type": "error",
          "ename": "TypeError",
          "evalue": "ignored",
          "traceback": [
            "\u001b[0;31m---------------------------------------------------------------------------\u001b[0m",
            "\u001b[0;31mTypeError\u001b[0m                                 Traceback (most recent call last)",
            "\u001b[0;32m<ipython-input-40-1cf932c54eab>\u001b[0m in \u001b[0;36m<module>\u001b[0;34m()\u001b[0m\n\u001b[1;32m      1\u001b[0m \u001b[0;31m# 케이스 4 - TypeError\u001b[0m\u001b[0;34m\u001b[0m\u001b[0;34m\u001b[0m\u001b[0;34m\u001b[0m\u001b[0m\n\u001b[1;32m      2\u001b[0m \u001b[0;34m\u001b[0m\u001b[0m\n\u001b[0;32m----> 3\u001b[0;31m \u001b[0mprint\u001b[0m\u001b[0;34m(\u001b[0m\u001b[0;36m1\u001b[0m\u001b[0;34m)\u001b[0m \u001b[0;34m/\u001b[0m \u001b[0;36m232\u001b[0m\u001b[0;34m\u001b[0m\u001b[0;34m\u001b[0m\u001b[0m\n\u001b[0m\u001b[1;32m      4\u001b[0m \u001b[0;34m\u001b[0m\u001b[0m\n\u001b[1;32m      5\u001b[0m \u001b[0ma\u001b[0m\u001b[0;34m,\u001b[0m\u001b[0mb\u001b[0m \u001b[0;34m=\u001b[0m \u001b[0;36m0\u001b[0m\u001b[0;34m\u001b[0m\u001b[0;34m\u001b[0m\u001b[0m\n",
            "\u001b[0;31mTypeError\u001b[0m: unsupported operand type(s) for /: 'NoneType' and 'int'"
          ]
        }
      ]
    },
    {
      "cell_type": "code",
      "metadata": {
        "colab": {
          "base_uri": "https://localhost:8080/",
          "height": 232
        },
        "id": "F_cjRyMEAn8h",
        "outputId": "9492f3e6-9365-48d4-ce38-21a1103303c6"
      },
      "source": [
        "# 케이스 5 - ZeroDivisionError\n",
        "\n",
        "value = 2/0"
      ],
      "execution_count": 41,
      "outputs": [
        {
          "output_type": "error",
          "ename": "ZeroDivisionError",
          "evalue": "ignored",
          "traceback": [
            "\u001b[0;31m---------------------------------------------------------------------------\u001b[0m",
            "\u001b[0;31mZeroDivisionError\u001b[0m                         Traceback (most recent call last)",
            "\u001b[0;32m<ipython-input-41-3213cee69b6c>\u001b[0m in \u001b[0;36m<module>\u001b[0;34m()\u001b[0m\n\u001b[1;32m      1\u001b[0m \u001b[0;31m# 케이스 5 - ZeroDivisionError\u001b[0m\u001b[0;34m\u001b[0m\u001b[0;34m\u001b[0m\u001b[0;34m\u001b[0m\u001b[0m\n\u001b[1;32m      2\u001b[0m \u001b[0;34m\u001b[0m\u001b[0m\n\u001b[0;32m----> 3\u001b[0;31m \u001b[0mvalue\u001b[0m \u001b[0;34m=\u001b[0m \u001b[0;36m2\u001b[0m\u001b[0;34m/\u001b[0m\u001b[0;36m0\u001b[0m\u001b[0;34m\u001b[0m\u001b[0;34m\u001b[0m\u001b[0m\n\u001b[0m",
            "\u001b[0;31mZeroDivisionError\u001b[0m: division by zero"
          ]
        }
      ]
    },
    {
      "cell_type": "code",
      "metadata": {
        "colab": {
          "base_uri": "https://localhost:8080/"
        },
        "id": "T1aQCDNvAqMW",
        "outputId": "b69502ae-21f1-47ee-c9ab-a83c18199f8b"
      },
      "source": [
        "# 케이스 6 - 경고\n",
        "\n",
        "a = 0\n",
        "c =0\n",
        "print(a,c,)"
      ],
      "execution_count": 42,
      "outputs": [
        {
          "output_type": "stream",
          "text": [
            "0 0\n"
          ],
          "name": "stdout"
        }
      ]
    },
    {
      "cell_type": "code",
      "metadata": {
        "colab": {
          "base_uri": "https://localhost:8080/"
        },
        "id": "VWkLOz7LAsWw",
        "outputId": "5dd72e71-1af9-4023-d0dc-0319be1d0c20"
      },
      "source": [
        "list=[]\n",
        "for i in range(1000, 2200):\n",
        "    if (i%7==0) and (i%5!=0):\n",
        "        list.append(str(i))\n",
        "\n",
        "print(list)\n",
        "print(','.join(list))"
      ],
      "execution_count": 44,
      "outputs": [
        {
          "output_type": "stream",
          "text": [
            "['1001', '1008', '1022', '1029', '1036', '1043', '1057', '1064', '1071', '1078', '1092', '1099', '1106', '1113', '1127', '1134', '1141', '1148', '1162', '1169', '1176', '1183', '1197', '1204', '1211', '1218', '1232', '1239', '1246', '1253', '1267', '1274', '1281', '1288', '1302', '1309', '1316', '1323', '1337', '1344', '1351', '1358', '1372', '1379', '1386', '1393', '1407', '1414', '1421', '1428', '1442', '1449', '1456', '1463', '1477', '1484', '1491', '1498', '1512', '1519', '1526', '1533', '1547', '1554', '1561', '1568', '1582', '1589', '1596', '1603', '1617', '1624', '1631', '1638', '1652', '1659', '1666', '1673', '1687', '1694', '1701', '1708', '1722', '1729', '1736', '1743', '1757', '1764', '1771', '1778', '1792', '1799', '1806', '1813', '1827', '1834', '1841', '1848', '1862', '1869', '1876', '1883', '1897', '1904', '1911', '1918', '1932', '1939', '1946', '1953', '1967', '1974', '1981', '1988', '2002', '2009', '2016', '2023', '2037', '2044', '2051', '2058', '2072', '2079', '2086', '2093', '2107', '2114', '2121', '2128', '2142', '2149', '2156', '2163', '2177', '2184', '2191', '2198']\n",
            "1001,1008,1022,1029,1036,1043,1057,1064,1071,1078,1092,1099,1106,1113,1127,1134,1141,1148,1162,1169,1176,1183,1197,1204,1211,1218,1232,1239,1246,1253,1267,1274,1281,1288,1302,1309,1316,1323,1337,1344,1351,1358,1372,1379,1386,1393,1407,1414,1421,1428,1442,1449,1456,1463,1477,1484,1491,1498,1512,1519,1526,1533,1547,1554,1561,1568,1582,1589,1596,1603,1617,1624,1631,1638,1652,1659,1666,1673,1687,1694,1701,1708,1722,1729,1736,1743,1757,1764,1771,1778,1792,1799,1806,1813,1827,1834,1841,1848,1862,1869,1876,1883,1897,1904,1911,1918,1932,1939,1946,1953,1967,1974,1981,1988,2002,2009,2016,2023,2037,2044,2051,2058,2072,2079,2086,2093,2107,2114,2121,2128,2142,2149,2156,2163,2177,2184,2191,2198\n"
          ],
          "name": "stdout"
        }
      ]
    },
    {
      "cell_type": "code",
      "metadata": {
        "colab": {
          "base_uri": "https://localhost:8080/"
        },
        "id": "TXb8K9xUAvJW",
        "outputId": "993b595f-d9b3-4ced-f73e-d135f27bc163"
      },
      "source": [
        "list=[]\n",
        "for i in range(1000, 2200):\n",
        "    if (i%7==0) and (i%5!=0):\n",
        "        list.insert(len(list), str(i))\n",
        "\n",
        "print(list)\n",
        "print(','.join(list))"
      ],
      "execution_count": 46,
      "outputs": [
        {
          "output_type": "stream",
          "text": [
            "['1001', '1008', '1022', '1029', '1036', '1043', '1057', '1064', '1071', '1078', '1092', '1099', '1106', '1113', '1127', '1134', '1141', '1148', '1162', '1169', '1176', '1183', '1197', '1204', '1211', '1218', '1232', '1239', '1246', '1253', '1267', '1274', '1281', '1288', '1302', '1309', '1316', '1323', '1337', '1344', '1351', '1358', '1372', '1379', '1386', '1393', '1407', '1414', '1421', '1428', '1442', '1449', '1456', '1463', '1477', '1484', '1491', '1498', '1512', '1519', '1526', '1533', '1547', '1554', '1561', '1568', '1582', '1589', '1596', '1603', '1617', '1624', '1631', '1638', '1652', '1659', '1666', '1673', '1687', '1694', '1701', '1708', '1722', '1729', '1736', '1743', '1757', '1764', '1771', '1778', '1792', '1799', '1806', '1813', '1827', '1834', '1841', '1848', '1862', '1869', '1876', '1883', '1897', '1904', '1911', '1918', '1932', '1939', '1946', '1953', '1967', '1974', '1981', '1988', '2002', '2009', '2016', '2023', '2037', '2044', '2051', '2058', '2072', '2079', '2086', '2093', '2107', '2114', '2121', '2128', '2142', '2149', '2156', '2163', '2177', '2184', '2191', '2198']\n",
            "1001,1008,1022,1029,1036,1043,1057,1064,1071,1078,1092,1099,1106,1113,1127,1134,1141,1148,1162,1169,1176,1183,1197,1204,1211,1218,1232,1239,1246,1253,1267,1274,1281,1288,1302,1309,1316,1323,1337,1344,1351,1358,1372,1379,1386,1393,1407,1414,1421,1428,1442,1449,1456,1463,1477,1484,1491,1498,1512,1519,1526,1533,1547,1554,1561,1568,1582,1589,1596,1603,1617,1624,1631,1638,1652,1659,1666,1673,1687,1694,1701,1708,1722,1729,1736,1743,1757,1764,1771,1778,1792,1799,1806,1813,1827,1834,1841,1848,1862,1869,1876,1883,1897,1904,1911,1918,1932,1939,1946,1953,1967,1974,1981,1988,2002,2009,2016,2023,2037,2044,2051,2058,2072,2079,2086,2093,2107,2114,2121,2128,2142,2149,2156,2163,2177,2184,2191,2198\n"
          ],
          "name": "stdout"
        }
      ]
    },
    {
      "cell_type": "code",
      "metadata": {
        "colab": {
          "base_uri": "https://localhost:8080/"
        },
        "id": "0VuJrrSHA8HV",
        "outputId": "b9dbee32-ef39-4729-a90c-d180c7d198a0"
      },
      "source": [
        "words = []\n",
        "while True:\n",
        "    char = input()\n",
        "    if char:\n",
        "        words.append(char.upper())\n",
        "    else:\n",
        "        break;\n",
        "\n",
        "for word in words:\n",
        "    print(word)"
      ],
      "execution_count": 47,
      "outputs": [
        {
          "output_type": "stream",
          "text": [
            "word1\n",
            "word2\n",
            "word3\n",
            "word4\n",
            "word5\n",
            "123\n",
            "qwe\n",
            "\n",
            "WORD1\n",
            "WORD2\n",
            "WORD3\n",
            "WORD4\n",
            "WORD5\n",
            "123\n",
            "QWE\n"
          ],
          "name": "stdout"
        }
      ]
    },
    {
      "cell_type": "code",
      "metadata": {
        "colab": {
          "base_uri": "https://localhost:8080/"
        },
        "id": "YWuQZLhZBJbt",
        "outputId": "7f163c90-bde2-4aa3-c204-82b16da26e05"
      },
      "source": [
        "values = []\n",
        "for i in range(100, 300):\n",
        "    char = str(i)\n",
        "\n",
        "    if (int(char[0])%2==0) and (int(char[2])%2==0):\n",
        "        values.append(char)\n",
        "\n",
        "print(\",\".join(values))"
      ],
      "execution_count": 48,
      "outputs": [
        {
          "output_type": "stream",
          "text": [
            "200,202,204,206,208,210,212,214,216,218,220,222,224,226,228,230,232,234,236,238,240,242,244,246,248,250,252,254,256,258,260,262,264,266,268,270,272,274,276,278,280,282,284,286,288,290,292,294,296,298\n"
          ],
          "name": "stdout"
        }
      ]
    },
    {
      "cell_type": "code",
      "metadata": {
        "colab": {
          "base_uri": "https://localhost:8080/"
        },
        "id": "zbqclHJZBaLo",
        "outputId": "562774e4-a177-4974-a9ae-d2bc13f8af4c"
      },
      "source": [
        "list_1 = ['bread', 'meat']\n",
        "list_2 = ['Lettuce',2 ,5]\n",
        "list_1.extend(list_2)\n",
        "print('list1: {}, list2: {}'.format(list_1, list_2))\n"
      ],
      "execution_count": 49,
      "outputs": [
        {
          "output_type": "stream",
          "text": [
            "list1: ['bread', 'meat', 'Lettuce', 2, 5], list2: ['Lettuce', 2, 5]\n"
          ],
          "name": "stdout"
        }
      ]
    },
    {
      "cell_type": "code",
      "metadata": {
        "colab": {
          "base_uri": "https://localhost:8080/"
        },
        "id": "_eE2-NH3Bet7",
        "outputId": "75ec3554-4424-4305-baa1-3b927e26fa5f"
      },
      "source": [
        "list1 = [11, 12, 43, 4, 6]\n",
        "for i in list1:\n",
        "    if not i % 2:\n",
        "        list1.remove(i)\n",
        "print(list1)"
      ],
      "execution_count": 50,
      "outputs": [
        {
          "output_type": "stream",
          "text": [
            "[11, 43, 6]\n"
          ],
          "name": "stdout"
        }
      ]
    },
    {
      "cell_type": "code",
      "metadata": {
        "colab": {
          "base_uri": "https://localhost:8080/"
        },
        "id": "mzKm7wKyBjVS",
        "outputId": "f4fe638e-fdb4-47c4-a919-76c9fea3a9e6"
      },
      "source": [
        "my_list = [1, 2, 3, 4, 5]\n",
        "my_list[0] = 99\n",
        "print(my_list)\n",
        "\n",
        "del my_list[0]\n",
        "print(my_list)"
      ],
      "execution_count": 51,
      "outputs": [
        {
          "output_type": "stream",
          "text": [
            "[99, 2, 3, 4, 5]\n",
            "[2, 3, 4, 5]\n"
          ],
          "name": "stdout"
        }
      ]
    },
    {
      "cell_type": "code",
      "metadata": {
        "colab": {
          "base_uri": "https://localhost:8080/"
        },
        "id": "wLkg38m-BswJ",
        "outputId": "154e7516-e3ac-49cd-90f2-c896125d79f8"
      },
      "source": [
        "my_list = [1, 2, 3, 4, 5]\n",
        "my_list[0] = 99\n",
        "print(my_list)\n",
        "\n",
        "my_list.pop()\n",
        "print(my_list)"
      ],
      "execution_count": 52,
      "outputs": [
        {
          "output_type": "stream",
          "text": [
            "[99, 2, 3, 4, 5]\n",
            "[99, 2, 3, 4]\n"
          ],
          "name": "stdout"
        }
      ]
    },
    {
      "cell_type": "code",
      "metadata": {
        "colab": {
          "base_uri": "https://localhost:8080/"
        },
        "id": "SN7W2TjtBwWJ",
        "outputId": "d740bfa9-b155-4d52-e8f2-26e940bcf79f"
      },
      "source": [
        "list = ['xyz', 'XYZ' 'abc', 'ABC']\n",
        "print(\"Index for xyz : \",  list.index( 'xyz' ))\n",
        "print(\"Index for ABC : \",  list.index( 'ABC' ))"
      ],
      "execution_count": 53,
      "outputs": [
        {
          "output_type": "stream",
          "text": [
            "Index for xyz :  0\n",
            "Index for ABC :  2\n"
          ],
          "name": "stdout"
        }
      ]
    },
    {
      "cell_type": "code",
      "metadata": {
        "colab": {
          "base_uri": "https://localhost:8080/"
        },
        "id": "lvjNx-V0B09g",
        "outputId": "a8326312-0f13-4a40-c3fb-3f477cb342fa"
      },
      "source": [
        "list = ['xyz', 'XYZ' 'abc', 'ABC']\n",
        "print(\"Count for xyz : \",  list.count( 'xyz' ))\n",
        "print(\"Count for ABC : \",  list.count( 'ABC' ))"
      ],
      "execution_count": 54,
      "outputs": [
        {
          "output_type": "stream",
          "text": [
            "Count for xyz :  1\n",
            "Count for ABC :  1\n"
          ],
          "name": "stdout"
        }
      ]
    },
    {
      "cell_type": "code",
      "metadata": {
        "colab": {
          "base_uri": "https://localhost:8080/"
        },
        "id": "CfL0sPAvB2oB",
        "outputId": "1d09d572-1a00-421f-b67f-b6f037d55fe4"
      },
      "source": [
        "import math\n",
        "def bin_search(li, element):\n",
        "    bottom = 0\n",
        "    top = len(li)-1\n",
        "    index = -1\n",
        "    while top >= bottom and index == -1:\n",
        "        mid = int(math.floor((top+bottom) / 2.0))\n",
        "        if li[mid] == element:\n",
        "            index = mid\n",
        "        elif li[mid] > element:\n",
        "            top = mid-1\n",
        "        else:\n",
        "            bottom = mid+1\n",
        "\n",
        "    return index\n",
        "\n",
        "li=[2,5,7,9,11,17,222]\n",
        "print(bin_search(li,11))\n",
        "print(bin_search(li,102))"
      ],
      "execution_count": 55,
      "outputs": [
        {
          "output_type": "stream",
          "text": [
            "4\n",
            "-1\n"
          ],
          "name": "stdout"
        }
      ]
    },
    {
      "cell_type": "code",
      "metadata": {
        "colab": {
          "base_uri": "https://localhost:8080/"
        },
        "id": "Ep036BlJB43A",
        "outputId": "f1b3949d-78e1-48d6-ce71-38d578237cf6"
      },
      "source": [
        "li = [12,24,35,70,88,120]\n",
        "for (i,x) in enumerate(li):\n",
        "   if i not in (0,3,5):\n",
        "     li = x\n",
        "print(li)"
      ],
      "execution_count": 58,
      "outputs": [
        {
          "output_type": "stream",
          "text": [
            "88\n"
          ],
          "name": "stdout"
        }
      ]
    },
    {
      "cell_type": "code",
      "metadata": {
        "colab": {
          "base_uri": "https://localhost:8080/"
        },
        "id": "Se5cNDEWCEB1",
        "outputId": "f3a9a15e-f35e-43cc-ebd4-a2df2d3e852b"
      },
      "source": [
        "def list_update(list_test):\n",
        "    new_li=[]\n",
        "    new_set = set()\n",
        "    for item in list_test:\n",
        "        if item not in new_set:\n",
        "            new_set.add(item)\n",
        "            new_li.append(item)\n",
        "\n",
        "    return new_li\n",
        "\n",
        "list_test=[120,120,10,20,30,20]\n",
        "print(list_update(list_test))"
      ],
      "execution_count": 59,
      "outputs": [
        {
          "output_type": "stream",
          "text": [
            "[120, 10, 20, 30]\n"
          ],
          "name": "stdout"
        }
      ]
    },
    {
      "cell_type": "code",
      "metadata": {
        "colab": {
          "base_uri": "https://localhost:8080/",
          "height": 334
        },
        "id": "3OcBAO2ECYsB",
        "outputId": "90d65331-e046-419c-e451-dc20b89f203d"
      },
      "source": [
        "from operator import itemgetter\n",
        "l = []\n",
        "while True:\n",
        "    s = input()\n",
        "    if not s:\n",
        "        break\n",
        "    l.append(tuple(s.split(\",\")))\n",
        "\n",
        "print(sorted(l, key=itemgetter(0,1,2)))"
      ],
      "execution_count": 64,
      "outputs": [
        {
          "output_type": "stream",
          "text": [
            "qwe\n",
            "asd\n",
            "zxc\n",
            "ert\n",
            "dfg\n",
            "\n"
          ],
          "name": "stdout"
        },
        {
          "output_type": "error",
          "ename": "IndexError",
          "evalue": "ignored",
          "traceback": [
            "\u001b[0;31m---------------------------------------------------------------------------\u001b[0m",
            "\u001b[0;31mIndexError\u001b[0m                                Traceback (most recent call last)",
            "\u001b[0;32m<ipython-input-64-1c711c5ab550>\u001b[0m in \u001b[0;36m<module>\u001b[0;34m()\u001b[0m\n\u001b[1;32m      7\u001b[0m     \u001b[0ml\u001b[0m\u001b[0;34m.\u001b[0m\u001b[0mappend\u001b[0m\u001b[0;34m(\u001b[0m\u001b[0mtuple\u001b[0m\u001b[0;34m(\u001b[0m\u001b[0ms\u001b[0m\u001b[0;34m.\u001b[0m\u001b[0msplit\u001b[0m\u001b[0;34m(\u001b[0m\u001b[0;34m\",\"\u001b[0m\u001b[0;34m)\u001b[0m\u001b[0;34m)\u001b[0m\u001b[0;34m)\u001b[0m\u001b[0;34m\u001b[0m\u001b[0;34m\u001b[0m\u001b[0m\n\u001b[1;32m      8\u001b[0m \u001b[0;34m\u001b[0m\u001b[0m\n\u001b[0;32m----> 9\u001b[0;31m \u001b[0mprint\u001b[0m\u001b[0;34m(\u001b[0m\u001b[0msorted\u001b[0m\u001b[0;34m(\u001b[0m\u001b[0ml\u001b[0m\u001b[0;34m,\u001b[0m \u001b[0mkey\u001b[0m\u001b[0;34m=\u001b[0m\u001b[0mitemgetter\u001b[0m\u001b[0;34m(\u001b[0m\u001b[0;36m0\u001b[0m\u001b[0;34m,\u001b[0m\u001b[0;36m1\u001b[0m\u001b[0;34m,\u001b[0m\u001b[0;36m2\u001b[0m\u001b[0;34m)\u001b[0m\u001b[0;34m)\u001b[0m\u001b[0;34m)\u001b[0m\u001b[0;34m\u001b[0m\u001b[0;34m\u001b[0m\u001b[0m\n\u001b[0m",
            "\u001b[0;31mIndexError\u001b[0m: tuple index out of range"
          ]
        }
      ]
    },
    {
      "cell_type": "code",
      "metadata": {
        "colab": {
          "base_uri": "https://localhost:8080/"
        },
        "id": "vWdre55UCiGe",
        "outputId": "aa4af78e-4fc3-4c26-8fba-a4d56940c677"
      },
      "source": [
        "dic = {}\n",
        "s=input()\n",
        "for s in s:\n",
        "    dic[s] = dic.get(s,0)+1\n",
        "print('\\n'.join(['%s,%s' % (k, v) for k, v in dic.items()]))"
      ],
      "execution_count": 63,
      "outputs": [
        {
          "output_type": "stream",
          "text": [
            "elewskdlsid\n",
            "e,2\n",
            "l,2\n",
            "w,1\n",
            "s,2\n",
            "k,1\n",
            "d,2\n",
            "i,1\n"
          ],
          "name": "stdout"
        }
      ]
    },
    {
      "cell_type": "code",
      "metadata": {
        "id": "-neMI_o6Csqx"
      },
      "source": [
        ""
      ],
      "execution_count": null,
      "outputs": []
    }
  ]
}